{
 "cells": [
  {
   "cell_type": "markdown",
   "metadata": {},
   "source": [
    "### 🔤 What is a String in Python?\n",
    "A string in Python is a sequence of Unicode characters. It is used to store text data, and each character in the string has a position index, starting from 0."
   ]
  },
  {
   "cell_type": "code",
   "execution_count": null,
   "metadata": {
    "vscode": {
     "languageId": "plaintext"
    }
   },
   "outputs": [],
   "source": [
    "text = \"Hello, World!\""
   ]
  },
  {
   "cell_type": "markdown",
   "metadata": {},
   "source": [
    "### 📌 Key Features of Strings:\n",
    "- Immutable: Strings cannot be changed after creation.\n",
    "\n",
    "- Indexing: Characters can be accessed using positive or negative indexes.\n",
    "\n",
    "- Slicing: Substrings can be extracted using slice notation.\n",
    "\n",
    "- Multiline Strings: Created using triple quotes (''' or \"\"\").\n",
    "\n",
    "- Concatenation: Using + operator to combine strings.\n",
    "\n",
    "- Repetition: Using * to repeat strings."
   ]
  },
  {
   "cell_type": "markdown",
   "metadata": {},
   "source": [
    "### 🧪 String Operations in Python:"
   ]
  },
  {
   "cell_type": "markdown",
   "metadata": {},
   "source": []
  }
 ],
 "metadata": {
  "language_info": {
   "name": "python"
  }
 },
 "nbformat": 4,
 "nbformat_minor": 2
}
