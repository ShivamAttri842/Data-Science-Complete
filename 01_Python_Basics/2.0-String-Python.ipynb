{
 "cells": [
  {
   "cell_type": "markdown",
   "metadata": {},
   "source": [
    "### 🔤 What is a String in Python?\n",
    "A string in Python is a sequence of Unicode characters. It is used to store text data, and each character in the string has a position index, starting from 0."
   ]
  },
  {
   "cell_type": "code",
   "execution_count": null,
   "metadata": {},
   "outputs": [],
   "source": [
    "text = \"Hello, World!\""
   ]
  },
  {
   "cell_type": "markdown",
   "metadata": {},
   "source": [
    "### 📌 Key Features of Strings:\n",
    "- Immutable: Strings cannot be changed after creation.\n",
    "\n",
    "- Indexing: Characters can be accessed using positive or negative indexes.\n",
    "\n",
    "- Slicing: Substrings can be extracted using slice notation.\n",
    "\n",
    "- Multiline Strings: Created using triple quotes (''' or \"\"\").\n",
    "\n",
    "- Concatenation: Using + operator to combine strings.\n",
    "\n",
    "- Repetition: Using * to repeat strings."
   ]
  },
  {
   "cell_type": "markdown",
   "metadata": {},
   "source": [
    "### 🧪 String Operations in Python:"
   ]
  },
  {
   "cell_type": "code",
   "execution_count": 1,
   "metadata": {
    "notebookRunGroups": {
     "groupValue": "1"
    }
   },
   "outputs": [
    {
     "name": "stdout",
     "output_type": "stream",
     "text": [
      "Hello Python\n",
      "HelloHelloHello\n",
      "H\n",
      "o\n",
      "ell\n",
      "6\n",
      "True\n",
      "This is\n",
      "a multiline\n",
      "string.\n"
     ]
    }
   ],
   "source": [
    "# Creating strings\n",
    "str1 = \"Hello\"\n",
    "str2 = 'Python'\n",
    "\n",
    "# Concatenation\n",
    "result = str1 + \" \" + str2\n",
    "print(result)  # Output: Hello Python\n",
    "\n",
    "# Repetition\n",
    "print(str1 * 3)  # Output: HelloHelloHello\n",
    "\n",
    "# Indexing\n",
    "print(str1[0])   # Output: H\n",
    "print(str1[-1])  # Output: o\n",
    "\n",
    "# Slicing\n",
    "print(str1[1:4])  # Output: ell\n",
    "\n",
    "# Length of string\n",
    "print(len(str2))  # Output: 6\n",
    "\n",
    "# Membership test\n",
    "print(\"P\" in str2)  # Output: True\n",
    "\n",
    "# Multiline string\n",
    "multi_line = \"\"\"This is\n",
    "a multiline\n",
    "string.\"\"\"\n",
    "print(multi_line)"
   ]
  },
  {
   "cell_type": "markdown",
   "metadata": {},
   "source": [
    "### 🛠️ **Useful String Methods:**\n",
    "\n",
    "| Method | Description |\n",
    "|--------|-------------|\n",
    "| `upper()` | Converts to uppercase |\n",
    "| `lower()` | Converts to lowercase |\n",
    "| `strip()` | Removes leading/trailing spaces |\n",
    "| `replace(old, new)` | Replaces substring |\n",
    "| `split()` | Splits string into list |\n",
    "| `find(sub)` | Returns index of substring |\n",
    "| `isalpha()` | Checks if all chars are letters |"
   ]
  }
 ],
 "metadata": {
  "kernelspec": {
   "display_name": "Python 3",
   "language": "python",
   "name": "python3"
  },
  "language_info": {
   "codemirror_mode": {
    "name": "ipython",
    "version": 3
   },
   "file_extension": ".py",
   "mimetype": "text/x-python",
   "name": "python",
   "nbconvert_exporter": "python",
   "pygments_lexer": "ipython3",
   "version": "3.13.2"
  }
 },
 "nbformat": 4,
 "nbformat_minor": 2
}
