{
 "cells": [
  {
   "cell_type": "markdown",
   "metadata": {},
   "source": [
    "# Python Basics"
   ]
  },
  {
   "cell_type": "markdown",
   "metadata": {},
   "source": [
    "### 🐍 Python Syntax – Definition\n",
    "Python syntax refers to the set of rules that define how a Python program is written and interpreted. It includes the structure and order of keywords, variables, operators, punctuation, and indentation used to write valid Python code."
   ]
  },
  {
   "cell_type": "markdown",
   "metadata": {},
   "source": [
    "### 🧠 Python Semantics – Definition\n",
    "Python semantics refer to the meaning and behavior of valid Python statements or expressions. While syntax defines how code should be written, semantics define what the code does when it's executed."
   ]
  },
  {
   "cell_type": "code",
   "execution_count": 14,
   "metadata": {},
   "outputs": [
    {
     "name": "stdout",
     "output_type": "stream",
     "text": [
      "Hello I am Shivam Attri\n"
     ]
    }
   ],
   "source": [
    "# Basics of Python\n",
    "\n",
    "print(\"Hello I am Shivam Attri\")"
   ]
  },
  {
   "cell_type": "markdown",
   "metadata": {},
   "source": [
    "### Comments in Python\n",
    "\n",
    "Comments in Python are lines in the code that are not executed by the interpreter. They are used to explain the code, make it more readable, or temporarily disable parts of the code during debugging.\n",
    "\n",
    "#### Types of Comments\n",
    "There are two types of comments in Python:\n",
    "1. **Single-line comments**: These are comments that are written on a single line and start with #\n",
    "2. **Multi-line comments**: These are comments that span multiple lines and are enclosed within triple quotes (\"\"\" or ''')\n"
   ]
  },
  {
   "cell_type": "markdown",
   "metadata": {},
   "source": [
    "### 🔠 Python is a Case-Sensitive Language\n",
    "Python is case-sensitive, which means that it treats uppercase and lowercase letters as different. So, identifiers like Variable, variable, and VARIABLE are all distinct."
   ]
  },
  {
   "cell_type": "code",
   "execution_count": 15,
   "metadata": {},
   "outputs": [
    {
     "name": "stdout",
     "output_type": "stream",
     "text": [
      "Shivam\n",
      "Attri\n"
     ]
    }
   ],
   "source": [
    "name = \"Shivam\"\n",
    "Name = \"Attri\"\n",
    "\n",
    "print(name)\n",
    "print(Name)"
   ]
  },
  {
   "cell_type": "markdown",
   "metadata": {},
   "source": [
    "### ⬅️ Indentation in Python – Definition\n",
    "Indentation refers to the whitespace at the beginning of a line. In Python, indentation is not optional—it is used to define the structure and blocks of code (like loops, functions, conditionals)."
   ]
  },
  {
   "cell_type": "code",
   "execution_count": 16,
   "metadata": {},
   "outputs": [
    {
     "name": "stdout",
     "output_type": "stream",
     "text": [
      "You are an adult.\n",
      "25\n"
     ]
    }
   ],
   "source": [
    "# Indentation\n",
    "# Python uses indentation to define block scope. This means that any code that is indented under a control structure (like if, for, while, etc.) is considered to be part of that block.\n",
    "\n",
    "age = 25\n",
    "if age >= 18:\n",
    "    print(\"You are an adult.\")\n",
    "    \n",
    "# The above code will print \"You are an adult.\" because the print statement is indented under the if statement.\n",
    "\n",
    "print(age)"
   ]
  },
  {
   "cell_type": "markdown",
   "metadata": {},
   "source": [
    "### Variable in Python\n",
    "- Variable are used to store data that can be used and manipulated in a program.\n",
    "- Variables are assigned a value using the assignment operator (=).\n",
    "- Variables can be of any data type such as integer, float, string, boolean, list, dictionary, etc."
   ]
  },
  {
   "cell_type": "code",
   "execution_count": 17,
   "metadata": {},
   "outputs": [],
   "source": [
    "# Example\n",
    "\n",
    "name = \"Shivam Attri\"\n",
    "age = 20\n",
    "height = 5.9"
   ]
  },
  {
   "cell_type": "markdown",
   "metadata": {},
   "source": [
    "### Variable Naming Rules\n",
    "* Use meaningful and descriptive names for variables.\n",
    "* Name can contain letters, numbers, and underscore.\n",
    "* Avoid using single-letter variable names unless they are commonly used in the language (e.g., `i`, `j`, `k` for loop counters).\n",
    "* Use underscores to separate words in variable names (e.g., `my_variable_name`).\n",
    "* Variable names are case sensitive.\n",
    "* Avoid using Python keyword as variable names.\n",
    "* Variable name must start with a letter or an underscore."
   ]
  },
  {
   "cell_type": "markdown",
   "metadata": {},
   "source": [
    "### Data Types in Python\n",
    "Python supports several built in data types, including:\n",
    "- Integers: whole numbers, either positive, negative, or zero.\n",
    "    - Example: 1, -5, 0\n",
    "- Floats: decimal numbers.\n",
    "    - Example: 3.14, -0.5, 2.0\n",
    "- Strings: sequences of characters, such as words or sentences.\n",
    "    - Example: \"hello\", 'hello', \"it's me\"\n",
    "- Boolean: a logical value that can be either True or False.\n",
    "    - Example: True, False\n",
    "- List: a collection of items which can be of any data type, including strings, integers, floats, and other lists.\n",
    "    - Example: [1, 2, 3], [\"apple\", \"banana\", \"cherry\"]\n",
    "- Tuple: a collection of items which can be of any data type, including strings, integers, floats, and other tuples.\n",
    "    - Example: (1, 2, 3), (\"apple\", \"banana\", \"cherry\")\n",
    "- Dictionary: a collection of key-value pairs, where each key is unique and maps to a specific value.\n",
    "    - Example: {\"name\": \"John\", \"age\": 30}, {\"city\": \"New York\", \"country\": \"USA\"}\n",
    "- Set: an unordered collection of unique items.\n",
    "    - Example: {1, 2, 3}, {\"apple\", \"banana\", \"cherry\"}"
   ]
  },
  {
   "cell_type": "markdown",
   "metadata": {},
   "source": [
    "### Checking the data types of Variables\n",
    "- Use the `type()` function to check the data type of a variable."
   ]
  },
  {
   "cell_type": "code",
   "execution_count": 18,
   "metadata": {},
   "outputs": [
    {
     "name": "stdout",
     "output_type": "stream",
     "text": [
      "<class 'int'>\n",
      "<class 'str'>\n"
     ]
    }
   ],
   "source": [
    "print(type(10))\n",
    "print(type(\"Hello\"))"
   ]
  },
  {
   "cell_type": "markdown",
   "metadata": {},
   "source": [
    "### TypesCasting in Python\n",
    "- TypeCasting is a process of converting one data type into another.\n",
    "- Python provides built in functions for typecasting:\n",
    "    - int() for converting to integer\n",
    "    - float() for converting to floating point number\n",
    "    - str() for converting to string\n",
    "    - bool() for converting to boolean"
   ]
  },
  {
   "cell_type": "code",
   "execution_count": 19,
   "metadata": {},
   "outputs": [
    {
     "name": "stdout",
     "output_type": "stream",
     "text": [
      "10\n",
      "<class 'int'>\n",
      "55\n",
      "<class 'str'>\n"
     ]
    }
   ],
   "source": [
    "# Example\n",
    "\n",
    "numStr = \"10\"\n",
    "numInt = int(numStr)\n",
    "print(numInt)\n",
    "print(type(numInt))\n",
    "\n",
    "num = 55\n",
    "numStr = str(num)\n",
    "print(numStr)\n",
    "print(type(numStr))"
   ]
  },
  {
   "cell_type": "markdown",
   "metadata": {},
   "source": [
    "### Taking User Input\n",
    "Using the input function\n",
    "- The `input()` function allows you to take user input from the keyboard.\n",
    "- By default, input() returns a string. You can convert it into other data types as needed."
   ]
  },
  {
   "cell_type": "code",
   "execution_count": 20,
   "metadata": {},
   "outputs": [
    {
     "name": "stdout",
     "output_type": "stream",
     "text": [
      "Hello, Shivam! You are 19 years old.\n"
     ]
    }
   ],
   "source": [
    "# Example\n",
    "\n",
    "name = input(\"Enter the Name: \")\n",
    "age = int(input(\"Enter the age: \"))\n",
    "\n",
    "print(f\"Hello, {name}! You are {age} years old.\")"
   ]
  },
  {
   "cell_type": "markdown",
   "metadata": {},
   "source": [
    "### Operators in Python\n",
    "\n",
    "#### Types of Operator in Python\n",
    "\n",
    "##### 1. Arithmetic Operators\n",
    "-  / (Division), - (Subtraction), * (Multiplication), + (Addition), % (Modulus), ** (Exponentiation), // (Floor Division)."
   ]
  },
  {
   "cell_type": "code",
   "execution_count": 21,
   "metadata": {},
   "outputs": [
    {
     "name": "stdout",
     "output_type": "stream",
     "text": [
      "20\n",
      "-10\n",
      "75\n",
      "0.3333333333333333\n",
      "30517578125\n",
      "0\n",
      "3\n"
     ]
    }
   ],
   "source": [
    "# Example\n",
    "\n",
    "a = 5\n",
    "b = 15\n",
    "\n",
    "print(a+b)\n",
    "print(a-b)\n",
    "print(a*b)\n",
    "print(a/b)\n",
    "print(a**b)\n",
    "print(b%a)\n",
    "print(b//a)"
   ]
  },
  {
   "cell_type": "markdown",
   "metadata": {},
   "source": [
    "##### 2. Comparison Operator\n",
    "- `==` (Equal), `!=` (Not Equal), `>` (Greater Than), `<` (Less Than), `>=` (Greater Than or Equal), `<=` (Less Than or Equal) are used to compare two values.\n",
    "- Returns a boolean value (True or False) indicating whether the comparison is true or false."
   ]
  },
  {
   "cell_type": "code",
   "execution_count": 22,
   "metadata": {},
   "outputs": [
    {
     "name": "stdout",
     "output_type": "stream",
     "text": [
      "False\n",
      "True\n",
      "False\n",
      "True\n",
      "False\n",
      "True\n"
     ]
    }
   ],
   "source": [
    "# Example\n",
    "\n",
    "a = 12\n",
    "b = 15\n",
    "print(a==b)\n",
    "print(a!=b)\n",
    "print(a>b)\n",
    "print(a<b)\n",
    "print(a>=b)\n",
    "print(a<=b)"
   ]
  },
  {
   "cell_type": "markdown",
   "metadata": {},
   "source": [
    "##### 3. Logical Operators\n",
    "- Logical operators are used to combine multiple conditions in a single statement. The three main logical operators are:\n",
    "    - AND (&&): Returns true if both conditions are true.\n",
    "    - OR (||): Returns true if either condition is true.\n",
    "    - NOT (!): Returns true if the condition is false."
   ]
  },
  {
   "cell_type": "code",
   "execution_count": 23,
   "metadata": {},
   "outputs": [
    {
     "name": "stdout",
     "output_type": "stream",
     "text": [
      "True\n",
      "False\n",
      "True\n",
      "True\n",
      "False\n",
      "False\n"
     ]
    }
   ],
   "source": [
    "# Example\n",
    "\n",
    "print(True and True)\n",
    "print(True and False)\n",
    "\n",
    "print(True or True)\n",
    "print(True or False)\n",
    "print(False or False)\n",
    "\n",
    "print(not True)"
   ]
  },
  {
   "cell_type": "markdown",
   "metadata": {},
   "source": [
    "##### 4. Assignment Operators\n",
    "- Assignment operators are used to assign a value to a variable. The most common assignment operators are:\n",
    "    - `=` (assignment operator)\n",
    "    - `+=` (addition assignment operator)\n",
    "    - `-=` (subtraction assignment operator)\n",
    "    - `*=` (multiplication assignment operator)\n",
    "    - `/=` (division assignment operator)\n",
    "    - `**=` (exponentiation assignment operator)\n",
    "    - `%=` (modulus assignment operator)"
   ]
  },
  {
   "cell_type": "code",
   "execution_count": 24,
   "metadata": {},
   "outputs": [
    {
     "name": "stdout",
     "output_type": "stream",
     "text": [
      "15\n",
      "10\n",
      "50\n",
      "10.0\n",
      "0.0\n",
      "0.0\n"
     ]
    }
   ],
   "source": [
    "# Example\n",
    "x = 10\n",
    "x += 5\n",
    "print(x)\n",
    "\n",
    "x -= 5\n",
    "print(x)\n",
    "\n",
    "x *= 5\n",
    "print(x)\n",
    "\n",
    "x /= 5\n",
    "print(x)\n",
    "\n",
    "x %= 5\n",
    "print(x)\n",
    "\n",
    "x **= 5\n",
    "print(x)"
   ]
  },
  {
   "cell_type": "markdown",
   "metadata": {},
   "source": [
    "##### 5. Membership Operator\n",
    "The membership operator is used to check if a value is present in a list or not. It returns True if the value is present in the list and False otherwise. The syntax for the membership operator is:\n",
    "- `in`, `in not`"
   ]
  },
  {
   "cell_type": "code",
   "execution_count": 25,
   "metadata": {},
   "outputs": [
    {
     "name": "stdout",
     "output_type": "stream",
     "text": [
      "True\n"
     ]
    }
   ],
   "source": [
    "# Example\n",
    "fruits = [\"apple\", \"banana\", \"cherry\"]\n",
    "print(\"banana\" in fruits)"
   ]
  },
  {
   "cell_type": "markdown",
   "metadata": {},
   "source": [
    "### Control Flow in Python\n",
    "Control flow in Python is used to control the flow of a program’s execution. It includes statements that allow you to change the flow of your program based on certain conditions. Here are some of the most commonly used control flow statements in Python:\n",
    "\n",
    "#### If-Else Conditional Statements\n",
    "\n",
    "##### What are Conditional Statements?\n",
    "- It allow you to execute code based on certain conditions.\n",
    "- Python uses `if`, `elif`, and `else` statements to create conditional statements."
   ]
  },
  {
   "cell_type": "code",
   "execution_count": 26,
   "metadata": {},
   "outputs": [
    {
     "name": "stdout",
     "output_type": "stream",
     "text": [
      "You are an adult\n"
     ]
    }
   ],
   "source": [
    "age = 19\n",
    "\n",
    "if age < 18:\n",
    "    print(\"You are a minor\")\n",
    "elif age == 18:\n",
    "    print(\"You just became adult\")\n",
    "else:\n",
    "    print(\"You are an adult\")"
   ]
  },
  {
   "cell_type": "markdown",
   "metadata": {},
   "source": [
    "### Match Case Statements in Python\n",
    "\n",
    "#### What is Match-Case?\n",
    "- A match-case statement is a control structure that allows you to execute different blocks of code based on the value of a variable.\n",
    "- It is a new feature in python 3.10 and later versions for pattern matching.\n",
    "- It is similar to switch-case statements in other programming languages.\n",
    "- It simplifies complex conditional logic."
   ]
  },
  {
   "cell_type": "code",
   "execution_count": 27,
   "metadata": {},
   "outputs": [
    {
     "name": "stdout",
     "output_type": "stream",
     "text": [
      "Not Found\n"
     ]
    }
   ],
   "source": [
    "# Example:\n",
    "\n",
    "status = 404\n",
    "\n",
    "match status:\n",
    "    case 200:\n",
    "        print(\"OK\")\n",
    "    case 404:\n",
    "        print(\"Not Found\")\n",
    "    case _:\n",
    "        print(\"Unknown status code\")"
   ]
  },
  {
   "cell_type": "markdown",
   "metadata": {},
   "source": [
    "### Loops in Python\n",
    "- Loops are used to execute a block of code repeatedly for a specified number of times. Python has two types of loops: \n",
    "    - for loops and \n",
    "    - while loops."
   ]
  },
  {
   "cell_type": "markdown",
   "metadata": {},
   "source": [
    "#### For Loop in Python"
   ]
  },
  {
   "cell_type": "code",
   "execution_count": 28,
   "metadata": {},
   "outputs": [
    {
     "name": "stdout",
     "output_type": "stream",
     "text": [
      "apple\n",
      "banana\n",
      "cherry\n"
     ]
    }
   ],
   "source": [
    "# Example 1:\n",
    "\n",
    "fruits = [\"apple\", \"banana\", \"cherry\"]\n",
    "\n",
    "for fruit in fruits:\n",
    "    print(fruit)"
   ]
  },
  {
   "cell_type": "code",
   "execution_count": 29,
   "metadata": {},
   "outputs": [
    {
     "name": "stdout",
     "output_type": "stream",
     "text": [
      "0\n",
      "1\n",
      "2\n",
      "3\n",
      "4\n"
     ]
    }
   ],
   "source": [
    "# Example 2:\n",
    "\n",
    "for i in range(5):\n",
    "    print(i)"
   ]
  },
  {
   "cell_type": "markdown",
   "metadata": {},
   "source": [
    "#### While Loop"
   ]
  },
  {
   "cell_type": "code",
   "execution_count": 30,
   "metadata": {},
   "outputs": [
    {
     "name": "stdout",
     "output_type": "stream",
     "text": [
      "0\n",
      "1\n",
      "2\n",
      "3\n",
      "4\n"
     ]
    }
   ],
   "source": [
    "# Example:\n",
    "\n",
    "count = 0\n",
    "\n",
    "while count < 5:\n",
    "    print(count)\n",
    "    count += 1"
   ]
  },
  {
   "cell_type": "markdown",
   "metadata": {},
   "source": [
    "#### Infinity Loop\n",
    "- Be careful to avoid infinite loops by ensuring the condition eventually became `False`."
   ]
  },
  {
   "cell_type": "code",
   "execution_count": 31,
   "metadata": {},
   "outputs": [],
   "source": [
    "# Example\n",
    "\n",
    "# while True:\n",
    "#     print(\"This will never stop because it is an infinite loop\")"
   ]
  },
  {
   "cell_type": "markdown",
   "metadata": {},
   "source": [
    "### Break, Continue and Pass Statement"
   ]
  },
  {
   "cell_type": "markdown",
   "metadata": {},
   "source": [
    "#### Break\n",
    "- The `break` statement is used to exit a loop prematurely."
   ]
  },
  {
   "cell_type": "code",
   "execution_count": 32,
   "metadata": {},
   "outputs": [
    {
     "name": "stdout",
     "output_type": "stream",
     "text": [
      "0\n",
      "1\n",
      "2\n",
      "3\n",
      "4\n"
     ]
    }
   ],
   "source": [
    "# Example:\n",
    "\n",
    "for i in range(10):\n",
    "    if i == 5:\n",
    "        break\n",
    "    print(i)"
   ]
  },
  {
   "cell_type": "markdown",
   "metadata": {},
   "source": [
    "#### Continue\n",
    "- The `continue` statement skips the rest of the code in the current iteration and moves to the next iteration."
   ]
  },
  {
   "cell_type": "code",
   "execution_count": 33,
   "metadata": {},
   "outputs": [
    {
     "name": "stdout",
     "output_type": "stream",
     "text": [
      "0\n",
      "1\n",
      "2\n",
      "4\n"
     ]
    }
   ],
   "source": [
    "# Example:\n",
    "for i in range(5):\n",
    "    if i ==3:\n",
    "        continue\n",
    "    print(i)"
   ]
  },
  {
   "cell_type": "markdown",
   "metadata": {},
   "source": [
    "#### Pass\n",
    "- The pass statement is a placeholder that does nothing. It is used when the syntax requires a statement but no action is needed."
   ]
  },
  {
   "cell_type": "code",
   "execution_count": 34,
   "metadata": {},
   "outputs": [
    {
     "name": "stdout",
     "output_type": "stream",
     "text": [
      "0\n",
      "1\n",
      "2\n",
      "3\n",
      "4\n"
     ]
    }
   ],
   "source": [
    "# Example:\n",
    "\n",
    "for i in range(5):\n",
    "    if i ==3:\n",
    "        pass\n",
    "    print(i)"
   ]
  }
 ],
 "metadata": {
  "kernelspec": {
   "display_name": "Python 3",
   "language": "python",
   "name": "python3"
  },
  "language_info": {
   "codemirror_mode": {
    "name": "ipython",
    "version": 3
   },
   "file_extension": ".py",
   "mimetype": "text/x-python",
   "name": "python",
   "nbconvert_exporter": "python",
   "pygments_lexer": "ipython3",
   "version": "3.13.2"
  }
 },
 "nbformat": 4,
 "nbformat_minor": 2
}
